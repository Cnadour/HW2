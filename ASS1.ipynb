{
  "nbformat": 4,
  "nbformat_minor": 0,
  "metadata": {
    "colab": {
      "provenance": [],
      "authorship_tag": "ABX9TyPQ7A1PapJnfi4vD15sIwNb",
      "include_colab_link": true
    },
    "kernelspec": {
      "name": "python3",
      "display_name": "Python 3"
    },
    "language_info": {
      "name": "python"
    }
  },
  "cells": [
    {
      "cell_type": "markdown",
      "metadata": {
        "id": "view-in-github",
        "colab_type": "text"
      },
      "source": [
        "<a href=\"https://colab.research.google.com/github/Cnadour/HW2/blob/main/ASS1.ipynb\" target=\"_parent\"><img src=\"https://colab.research.google.com/assets/colab-badge.svg\" alt=\"Open In Colab\"/></a>"
      ]
    },
    {
      "cell_type": "code",
      "execution_count": 37,
      "metadata": {
        "colab": {
          "base_uri": "https://localhost:8080/",
          "height": 0
        },
        "id": "1krHsLjas54Q",
        "outputId": "c114cc2b-d268-41d0-ee4e-bfcd5b6f0d4d"
      },
      "outputs": [
        {
          "output_type": "stream",
          "name": "stdout",
          "text": [
            "Enter the score for test 1: 95\n",
            "Enter the score for test 2: 97\n",
            "Enter the score for test 3: 100\n",
            "The average score is:  97.33333333333333\n",
            "Congratulations!\n",
            "That is a great average!\n"
          ]
        }
      ],
      "source": [
        "##R1\n",
        "HIGH_SCORE = 95\n",
        "test1 = int(input('Enter the score for test 1: ')) ##added int to enter only number\n",
        "test2 = int(input('Enter the score for test 2: '))\n",
        "test3 = int(input('Enter the score for test 3: ')) ### added test3\n",
        "average=(test1 + test2 + test3)/3 ## put the sum between ()\n",
        "print(\"The average score is: \", average) ## used \"\"\n",
        "if average >= HIGH_SCORE: ## changed high_score to capital letters\n",
        "   print('Congratulations!')\n",
        "   print('That is a great average!')### moved print a little to the righ\n",
        "\n"
      ]
    },
    {
      "cell_type": "code",
      "source": [
        "##R2\n",
        "width1 = int(input(\"Enter the width of the first rectangle: \")) ###asking for with\n",
        "height1 = int(input(\"Enter the height of the first rectangle: \"))###asking for heigh\n",
        "width2 = int(input(\"Enter the width of the second rectangle: \"))\n",
        "height2 = int(input(\"Enter the height of the second rectangle: \"))\n",
        "area1 = width1 * height1 ##area formula\n",
        "area2 = width2 * height2\n",
        "print (\"Area of the first rectangle is \", area1)  ##output\n",
        "print (\"Area of the second rectangle is \", area2)"
      ],
      "metadata": {
        "colab": {
          "base_uri": "https://localhost:8080/",
          "height": 0
        },
        "id": "7V04rVUs77uN",
        "outputId": "63e1fd40-9404-4930-a786-9afd1b1445ce"
      },
      "execution_count": 41,
      "outputs": [
        {
          "output_type": "stream",
          "name": "stdout",
          "text": [
            "Enter the width of the first rectangle: 10\n",
            "Enter the height of the first rectangle: 20\n",
            "Enter the width of the second rectangle: 30\n",
            "Enter the height of the second rectangle: 50\n",
            "Area of the first rectangle is  200\n",
            "Area of the second rectangle is  1500\n"
          ]
        }
      ]
    },
    {
      "cell_type": "code",
      "source": [
        "### R3\n",
        "name = str(input(\"enter the name : \"))\n",
        "age =int(input(\"age: \"))\n",
        "print(\"Happy birthday\", name, \"!\", \"You are\", age, \"years old today!\")"
      ],
      "metadata": {
        "colab": {
          "base_uri": "https://localhost:8080/",
          "height": 0
        },
        "id": "ZFqsKEd58Hu-",
        "outputId": "19d81e83-1c53-4759-ce98-70079d75acef"
      },
      "execution_count": 46,
      "outputs": [
        {
          "output_type": "stream",
          "name": "stdout",
          "text": [
            "enter the name : Dalila\n",
            "age: 34\n",
            "Happy birthday Dalila ! You are 34 years old today!\n"
          ]
        }
      ]
    }
  ]
}